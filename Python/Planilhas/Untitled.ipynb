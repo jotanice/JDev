{
 "cells": [
  {
   "cell_type": "code",
   "execution_count": 15,
   "metadata": {},
   "outputs": [
    {
     "ename": "ImportError",
     "evalue": "cannot import name 'get_database' from 'databases' (C:\\Users\\joaof\\Anaconda3\\lib\\site-packages\\databases\\__init__.py)",
     "output_type": "error",
     "traceback": [
      "\u001b[1;31m---------------------------------------------------------------------------\u001b[0m",
      "\u001b[1;31mImportError\u001b[0m                               Traceback (most recent call last)",
      "\u001b[1;32m<ipython-input-15-3b7055820204>\u001b[0m in \u001b[0;36m<module>\u001b[1;34m\u001b[0m\n\u001b[1;32m----> 1\u001b[1;33m \u001b[1;32mfrom\u001b[0m \u001b[0mdatabases\u001b[0m \u001b[1;32mimport\u001b[0m \u001b[0mget_database\u001b[0m\u001b[1;33m\u001b[0m\u001b[1;33m\u001b[0m\u001b[0m\n\u001b[0m",
      "\u001b[1;31mImportError\u001b[0m: cannot import name 'get_database' from 'databases' (C:\\Users\\joaof\\Anaconda3\\lib\\site-packages\\databases\\__init__.py)"
     ]
    }
   ],
   "source": [
    "from databases import get_database"
   ]
  },
  {
   "cell_type": "code",
   "execution_count": 32,
   "metadata": {},
   "outputs": [
    {
     "name": "stdout",
     "output_type": "stream",
     "text": [
      "[53.0, '', '']\n"
     ]
    }
   ],
   "source": [
    "#-*- coding: utf-8 -*-\n",
    "import xlrd\n",
    "\n",
    "workbook = xlrd.open_workbook('simples.xlsx')\n",
    "worksheet = workbook.sheet_by_index(0)\n",
    "\n",
    "for row_num in range(worksheet.nrows):\n",
    "    if row_num == 0:\n",
    "        continue\n",
    "    row = worksheet.row_values(row_num)\n",
    "    print (row)"
   ]
  },
  {
   "cell_type": "code",
   "execution_count": 20,
   "metadata": {},
   "outputs": [],
   "source": [
    "#-*- coding: utf-8 -*-\n",
    "import pandas as pd\n",
    "import numpy as np\n",
    "import xlwt\n",
    "\n",
    "from datetime import datetime\n",
    "import databases\n",
    "\n",
    "\n",
    "workbook = xlwt.Workbook()\n",
    "worksheet = workbook.add_sheet(u'Simple')\n",
    "worksheet.write(0, 0, u'Simples')\n",
    "workbook.save('simples.xls')"
   ]
  }
 ],
 "metadata": {
  "kernelspec": {
   "display_name": "Python 3",
   "language": "python",
   "name": "python3"
  },
  "language_info": {
   "codemirror_mode": {
    "name": "ipython",
    "version": 3
   },
   "file_extension": ".py",
   "mimetype": "text/x-python",
   "name": "python",
   "nbconvert_exporter": "python",
   "pygments_lexer": "ipython3",
   "version": "3.7.1"
  }
 },
 "nbformat": 4,
 "nbformat_minor": 2
}
