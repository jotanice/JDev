{
 "cells": [
  {
   "cell_type": "code",
   "execution_count": 29,
   "metadata": {},
   "outputs": [],
   "source": [
    "#-*- coding:utf-8 -*-\n",
    "import numpy\n",
    "import xlwt\n",
    "import xlrd\n",
    "#from databases import databases\n",
    "from datetime import datetime\n",
    "\n",
    "# lê planilha de range de ceps (correios_cep.xlsx)\n",
    "\n",
    "wbcep = xlrd.open_workbook('correios_cep.xlsx')\n",
    "wscep = wbcep.sheet_by_name('Capitais')\n",
    "\n",
    "for row_num in range(wscep.nrows):\n",
    "    if row_num == 0:\n",
    "        continue\n",
    "    row = wscep.row_values(row_num)\n",
    "\n",
    "# cruza correios_cep.xlsx com mod_import_frete_jet.xlsx\n",
    "\n",
    "wb_impfrete = xlwt.Workbook()\n",
    "ws_impfrete = wb_impfrete.add_sheet(u'Tab_Frete')\n",
    "wb_impfrete.save('mod_import_frete_jet_teste.xls')\n"
   ]
  },
  {
   "cell_type": "code",
   "execution_count": null,
   "metadata": {},
   "outputs": [],
   "source": []
  }
 ],
 "metadata": {
  "kernelspec": {
   "display_name": "Python 3",
   "language": "python",
   "name": "python3"
  },
  "language_info": {
   "codemirror_mode": {
    "name": "ipython",
    "version": 3
   },
   "file_extension": ".py",
   "mimetype": "text/x-python",
   "name": "python",
   "nbconvert_exporter": "python",
   "pygments_lexer": "ipython3",
   "version": "3.7.1"
  }
 },
 "nbformat": 4,
 "nbformat_minor": 2
}
