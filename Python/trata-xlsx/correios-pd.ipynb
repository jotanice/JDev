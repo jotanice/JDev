{
 "cells": [
  {
   "cell_type": "code",
   "execution_count": 54,
   "metadata": {},
   "outputs": [
    {
     "data": {
      "text/plain": [
       "1       CORREIOS - PAC\n",
       "2       CORREIOS - PAC\n",
       "3       CORREIOS - PAC\n",
       "4       CORREIOS - PAC\n",
       "5     CORREIOS - SEDEX\n",
       "6       CORREIOS - PAC\n",
       "7       CORREIOS - PAC\n",
       "8       CORREIOS - PAC\n",
       "9       CORREIOS - PAC\n",
       "10    CORREIOS - SEDEX\n",
       "Name: Nome, dtype: object"
      ]
     },
     "execution_count": 54,
     "metadata": {},
     "output_type": "execute_result"
    }
   ],
   "source": [
    "#-*- coding:utf-8 -*-\n",
    "import pandas as pd\n",
    "\n",
    "wbfrete = pd.read_excel('mod_import_frete_jet.xlsx')\n",
    "#wbfrete = pd.DataFrame([])\n",
    "#wbfrete = pd.write.\n",
    "#wbfrete['PesoInicio']\n",
    "\n",
    "wbfrete.loc[5,'Nome'] = wbfrete.loc[10,'Nome']\n",
    "wbfrete.loc[1:10,'Nome']\n",
    "#wbfrete.head(n=1)\n",
    "#wbfrete.loc[1,'nome']\n",
    "#print(wbfrete)"
   ]
  },
  {
   "cell_type": "code",
   "execution_count": null,
   "metadata": {},
   "outputs": [],
   "source": []
  }
 ],
 "metadata": {
  "kernelspec": {
   "display_name": "Python 3",
   "language": "python",
   "name": "python3"
  }
 },
 "nbformat": 4,
 "nbformat_minor": 2
}
