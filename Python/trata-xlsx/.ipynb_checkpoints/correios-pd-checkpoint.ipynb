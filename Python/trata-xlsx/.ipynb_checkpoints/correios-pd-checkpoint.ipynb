{
 "cells": [
  {
   "cell_type": "code",
   "execution_count": 16,
   "metadata": {},
   "outputs": [
    {
     "data": {
      "text/html": [
       "<div>\n",
       "<style scoped>\n",
       "    .dataframe tbody tr th:only-of-type {\n",
       "        vertical-align: middle;\n",
       "    }\n",
       "\n",
       "    .dataframe tbody tr th {\n",
       "        vertical-align: top;\n",
       "    }\n",
       "\n",
       "    .dataframe thead th {\n",
       "        text-align: right;\n",
       "    }\n",
       "</style>\n",
       "<table border=\"1\" class=\"dataframe\">\n",
       "  <thead>\n",
       "    <tr style=\"text-align: right;\">\n",
       "      <th></th>\n",
       "      <th>Nome</th>\n",
       "      <th>Descricao</th>\n",
       "      <th>CepInicio</th>\n",
       "      <th>CepFim</th>\n",
       "      <th>PesoInicio</th>\n",
       "      <th>PesoFim</th>\n",
       "      <th>Valor</th>\n",
       "      <th>Prazo</th>\n",
       "      <th>DiaUtil</th>\n",
       "    </tr>\n",
       "  </thead>\n",
       "  <tbody>\n",
       "    <tr>\n",
       "      <th>0</th>\n",
       "      <td>CORREIOS - PAC</td>\n",
       "      <td>AC-RIO-BRANCO-CAP</td>\n",
       "      <td>69900001</td>\n",
       "      <td>69924999</td>\n",
       "      <td>0.001</td>\n",
       "      <td>1.0</td>\n",
       "      <td>42.1</td>\n",
       "      <td>NaN</td>\n",
       "      <td>Sim</td>\n",
       "    </tr>\n",
       "  </tbody>\n",
       "</table>\n",
       "</div>"
      ],
      "text/plain": [
       "             Nome          Descricao CepInicio    CepFim  PesoInicio  PesoFim  \\\n",
       "0  CORREIOS - PAC  AC-RIO-BRANCO-CAP  69900001  69924999       0.001      1.0   \n",
       "\n",
       "   Valor  Prazo DiaUtil  \n",
       "0   42.1    NaN     Sim  "
      ]
     },
     "execution_count": 16,
     "metadata": {},
     "output_type": "execute_result"
    }
   ],
   "source": [
    "#-*- coding:utf-8 -*-\n",
    "import pandas as pd\n",
    "\n",
    "wbfrete = pd.read_excel('mod_import_frete_jet.xlsx')\n",
    "#df = pd.DataFrame(data, columns())\n",
    "\n",
    "#wbfrete = pd.write.\n",
    "\n",
    "wbfrete.head(n=1)\n",
    "df.loc(1)"
   ]
  },
  {
   "cell_type": "code",
   "execution_count": null,
   "metadata": {},
   "outputs": [],
   "source": []
  }
 ],
 "metadata": {
  "kernelspec": {
   "display_name": "Python 3",
   "language": "python",
   "name": "python3"
  }
 },
 "nbformat": 4,
 "nbformat_minor": 2
}
